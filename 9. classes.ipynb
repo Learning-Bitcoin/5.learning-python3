{
 "cells": [
  {
   "cell_type": "markdown",
   "metadata": {},
   "source": [
    "# Classes"
   ]
  },
  {
   "cell_type": "markdown",
   "metadata": {},
   "source": [
    "## What is a class"
   ]
  },
  {
   "cell_type": "markdown",
   "metadata": {},
   "source": [
    "Classes provide a means of bundling data and functionality together. Creating a new class creates a new type of object, allowing new instances of that type to be made. \n",
    "\n",
    "Python respects other languages, such as C++, implements classes with simplified syntax and functionalities. For example, classes in Python don't have a concept of visibility like in most other languages."
   ]
  },
  {
   "cell_type": "markdown",
   "metadata": {},
   "source": [
    "## Creating a class"
   ]
  },
  {
   "cell_type": "code",
   "execution_count": null,
   "metadata": {},
   "outputs": [],
   "source": [
    "# Defining a class\n",
    "class Wallet:\n",
    "  addr = None\n",
    "  def __init__(self, addr):  # __init__ is the constructor, note the \"self\"\n",
    "    self.addr = addr\n",
    "    self.total_bitcoin = 10  # this is called attribute or property\n",
    "\n",
    "  def __repr__(self):  # this is called when we try to convert the object to a string\n",
    "    return self.addr\n",
    "\n",
    "\n",
    "wallet = Wallet(\"my addr\")\n",
    "print(wallet.addr)  # accessing an attribute \"my addr\"\n",
    "print(wallet)  # because we defined __repr__, it will also return \"my addr\""
   ]
  },
  {
   "cell_type": "markdown",
   "metadata": {},
   "source": [
    "## Inheritance and method overriding"
   ]
  },
  {
   "cell_type": "markdown",
   "metadata": {},
   "source": [
    "Classes can be extended. When we extend a class, we can inherit the properties and methods of the parent class. The children class will utilizes the parent properties and methods or override them."
   ]
  },
  {
   "cell_type": "code",
   "execution_count": null,
   "metadata": {},
   "outputs": [],
   "source": [
    "class Animal: \n",
    "  def __init__(self, name, legs):\n",
    "    self.name = name\n",
    "    self.legs = legs\n",
    "        \n",
    "class Dog(Animal):\n",
    "  def sound(self):\n",
    "    print(\"Woof!\")\n",
    "\n",
    "Yoki = Dog(\"Yoki\", 4)\n",
    "print(Yoki.name) # YOKI\n",
    "print(Yoki.legs) # 4\n",
    "Yoki.sound() # Woof!"
   ]
  },
  {
   "cell_type": "markdown",
   "metadata": {},
   "source": [
    "## User defined exception"
   ]
  },
  {
   "cell_type": "markdown",
   "metadata": {},
   "source": [
    "When an expression is syntactically correct but fails, for example because of a division by zero, Python raises an exception. Python allows to create custom exceptions."
   ]
  },
  {
   "cell_type": "code",
   "execution_count": null,
   "metadata": {},
   "outputs": [],
   "source": [
    "# normal exception capture\n",
    "def this_fails():\n",
    "    x = 1/0\n",
    "\n",
    "try:\n",
    "    this_fails()\n",
    "except ZeroDivisionError as err:\n",
    "    print('Handling run-time error:', err)"
   ]
  },
  {
   "cell_type": "code",
   "execution_count": null,
   "metadata": {},
   "outputs": [],
   "source": [
    "class UserCantDrink(Exception):\n",
    "    def __str__(self): \n",
    "        return(\"You can't buy a beer\")\n",
    "\n",
    "x = 20\n",
    "\n",
    "# user defined exception\n",
    "try:\n",
    "    if x < 21:\n",
    "        raise UserCantDrink \n",
    "except UserCantDrink as err:\n",
    "    print('Handling run-time error:', err)"
   ]
  },
  {
   "cell_type": "code",
   "execution_count": null,
   "metadata": {},
   "outputs": [],
   "source": []
  }
 ],
 "metadata": {
  "kernelspec": {
   "display_name": "Python 3",
   "language": "python",
   "name": "python3"
  },
  "language_info": {
   "codemirror_mode": {
    "name": "ipython",
    "version": 3
   },
   "file_extension": ".py",
   "mimetype": "text/x-python",
   "name": "python",
   "nbconvert_exporter": "python",
   "pygments_lexer": "ipython3",
   "version": "3.7.5"
  }
 },
 "nbformat": 4,
 "nbformat_minor": 2
}
