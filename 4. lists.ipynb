{
 "cells": [
  {
   "cell_type": "markdown",
   "metadata": {},
   "source": [
    "# Lists"
   ]
  },
  {
   "cell_type": "markdown",
   "metadata": {},
   "source": [
    "A list or array is a sequence of elements. A list is mutable, you can add or remove items from it."
   ]
  },
  {
   "cell_type": "markdown",
   "metadata": {},
   "source": [
    "## Lists, creating and modifying"
   ]
  },
  {
   "cell_type": "code",
   "execution_count": 12,
   "metadata": {},
   "outputs": [
    {
     "name": "stdout",
     "output_type": "stream",
     "text": [
      "['Alice', 'White Rabbit', 'Mad Hatter', 'Joe', 'Caterpillar']\n"
     ]
    }
   ],
   "source": [
    "names = [\"Alice\", \"White Rabbit\", \"Mad Hatter\"]\n",
    "\n",
    "names[0] # \"Alice\"\n",
    "names[1] # \"White Rabbit\"\n",
    "names[2] # \"Mad Hatter\"\n",
    "\n",
    "index = 1\n",
    "names[index] # White Rabbit\n",
    "\n",
    "names.append(\"Joe\")\n",
    "names.append(\"Caterpillar\")\n",
    "\n",
    "print(names)"
   ]
  },
  {
   "cell_type": "markdown",
   "metadata": {},
   "source": [
    "## Reading lists (len, slice, negative indexing)"
   ]
  },
  {
   "cell_type": "code",
   "execution_count": null,
   "metadata": {},
   "outputs": [],
   "source": [
    "names = [\"Alice\", \"White Rabbit\", \"Mad Hatter\", \"Caterpillar\"]\n",
    "len(names) # returns the length of the array: 3\n",
    "\n",
    "# We can slice a list with using the colon \n",
    "sliced_array = names[1:] # [\"White Rabbit\", \"Mad Hatter\", \"Caterpillar\"]\n",
    "sliced_array = names[:2] # [\"Alice\", \"White Rabbit\", \"Mad Hatter\"]\n",
    "sliced_array = names[1:2] # [\"White Rabbit\", \"Mad Hatter\"]\n",
    "\n",
    "# We also can select a negative number. The indexing is modular\n",
    "names[-1] # \"Caterpillar\""
   ]
  },
  {
   "cell_type": "markdown",
   "metadata": {},
   "source": [
    "## Append and other operations (+, delete, count, sort)"
   ]
  },
  {
   "cell_type": "code",
   "execution_count": 20,
   "metadata": {},
   "outputs": [
    {
     "ename": "TypeError",
     "evalue": "'<' not supported between instances of 'int' and 'str'",
     "output_type": "error",
     "traceback": [
      "\u001b[0;31m---------------------------------------------------------------------------\u001b[0m",
      "\u001b[0;31mTypeError\u001b[0m                                 Traceback (most recent call last)",
      "\u001b[0;32m<ipython-input-20-009f1d351aab>\u001b[0m in \u001b[0;36m<module>\u001b[0;34m\u001b[0m\n\u001b[1;32m      6\u001b[0m \u001b[0mnames\u001b[0m\u001b[0;34m.\u001b[0m\u001b[0mcount\u001b[0m\u001b[0;34m(\u001b[0m\u001b[0;34m\"Alice\"\u001b[0m\u001b[0;34m)\u001b[0m \u001b[0;31m# returns 1, because there's only one occurrence\u001b[0m\u001b[0;34m\u001b[0m\u001b[0;34m\u001b[0m\u001b[0m\n\u001b[1;32m      7\u001b[0m \u001b[0;34m\u001b[0m\u001b[0m\n\u001b[0;32m----> 8\u001b[0;31m \u001b[0mnames\u001b[0m\u001b[0;34m.\u001b[0m\u001b[0msort\u001b[0m\u001b[0;34m(\u001b[0m\u001b[0;34m)\u001b[0m \u001b[0;31m# [\"Alice\", \"Caterpillar\", \"Mad Hatter\", \"White Rabbit\"]\u001b[0m\u001b[0;34m\u001b[0m\u001b[0;34m\u001b[0m\u001b[0m\n\u001b[0m\u001b[1;32m      9\u001b[0m \u001b[0mprint\u001b[0m\u001b[0;34m(\u001b[0m\u001b[0mnames\u001b[0m\u001b[0;34m)\u001b[0m\u001b[0;34m\u001b[0m\u001b[0;34m\u001b[0m\u001b[0m\n",
      "\u001b[0;31mTypeError\u001b[0m: '<' not supported between instances of 'int' and 'str'"
     ]
    }
   ],
   "source": [
    "names1 = ['Fed', 'Dan']\n",
    "names2 = ['Ben', 'Sam']\n",
    "# we can combine two lists\n",
    "names_add = names1 + names2\n",
    "\n",
    "names.count(\"Alice\") # returns 1, because there's only one occurrence\n",
    "\n",
    "names.sort() # [\"Alice\", \"Caterpillar\", \"Mad Hatter\", \"White Rabbit\"]\n",
    "print(names)\n"
   ]
  },
  {
   "cell_type": "code",
   "execution_count": null,
   "metadata": {},
   "outputs": [],
   "source": []
  }
 ],
 "metadata": {
  "kernelspec": {
   "display_name": "Python 3",
   "language": "python",
   "name": "python3"
  },
  "language_info": {
   "codemirror_mode": {
    "name": "ipython",
    "version": 3
   },
   "file_extension": ".py",
   "mimetype": "text/x-python",
   "name": "python",
   "nbconvert_exporter": "python",
   "pygments_lexer": "ipython3",
   "version": "3.7.5"
  }
 },
 "nbformat": 4,
 "nbformat_minor": 2
}
