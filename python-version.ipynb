{
 "cells": [
  {
   "cell_type": "code",
   "execution_count": 1,
   "metadata": {},
   "outputs": [
    {
     "data": {
      "text/plain": [
       "'3.7.5 (default, Nov 17 2019, 16:06:54) \\n[Clang 10.0.1 (clang-1001.0.46.4)]'"
      ]
     },
     "execution_count": 1,
     "metadata": {},
     "output_type": "execute_result"
    }
   ],
   "source": [
    "import sys\n",
    "sys.version"
   ]
  },
  {
   "cell_type": "code",
   "execution_count": null,
   "metadata": {},
   "outputs": [],
   "source": [
    "from bitcoinrpc.authproxy import AuthServiceProxy, JSONRPCException\n",
    "\n",
    "# rpc_user and rpc_password are set in the bitcoin.conf file\n",
    "rpc_connection = AuthServiceProxy(\"http://%s:%s@127.0.0.1:18443\"%(rpc_user, rpc_password))\n",
    "best_block_hash = rpc_connection.getbestblockhash()\n",
    "print(rpc_connection.getblock(best_block_hash))\n",
    "\n",
    "# batch support : print timestamps of blocks 0 to 99 in 2 RPC round-trips:\n",
    "commands = [ [ \"getblockhash\", height] for height in range(100) ]\n",
    "block_hashes = rpc_connection.batch_(commands)\n",
    "blocks = rpc_connection.batch_([ [ \"getblock\", h ] for h in block_hashes ])\n",
    "block_times = [ block[\"time\"] for block in blocks ]\n",
    "print(block_times)"
   ]
  }
 ],
 "metadata": {
  "kernelspec": {
   "display_name": "Python 3",
   "language": "python",
   "name": "python3"
  },
  "language_info": {
   "codemirror_mode": {
    "name": "ipython",
    "version": 3
   },
   "file_extension": ".py",
   "mimetype": "text/x-python",
   "name": "python",
   "nbconvert_exporter": "python",
   "pygments_lexer": "ipython3",
   "version": "3.7.5"
  }
 },
 "nbformat": 4,
 "nbformat_minor": 2
}
