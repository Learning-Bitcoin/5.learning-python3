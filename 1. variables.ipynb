{
 "cells": [
  {
   "cell_type": "markdown",
   "metadata": {},
   "source": [
    "# Variables"
   ]
  },
  {
   "cell_type": "markdown",
   "metadata": {},
   "source": [
    "A Python variable is a reserved memory location to store values. In other words, a variable in a python program gives data to the computer for processing. Every value in Python has a datatype. Different data types in Python are Numbers, List, Tuple, Strings, Dictionary, etc"
   ]
  },
  {
   "cell_type": "markdown",
   "metadata": {},
   "source": [
    "## Print"
   ]
  },
  {
   "cell_type": "code",
   "execution_count": 1,
   "metadata": {},
   "outputs": [
    {
     "name": "stdout",
     "output_type": "stream",
     "text": [
      "The Times 3 Jan 2008 — chancellor on brink of second bailout for banks\n"
     ]
    }
   ],
   "source": [
    "# Print\n",
    "\n",
    "newspaper = \"The Times\"\n",
    "print(newspaper + \" 3 Jan 2008 — chancellor on brink of second bailout for banks\")"
   ]
  },
  {
   "cell_type": "code",
   "execution_count": 4,
   "metadata": {},
   "outputs": [
    {
     "name": "stdout",
     "output_type": "stream",
     "text": [
      "jim surfer\n"
     ]
    }
   ],
   "source": [
    "first_name = \"jim\"\n",
    "last_name = \"surfer\"\n",
    "full_name = first_name + \" \" + last_name\n",
    "\n",
    "print(full_name)"
   ]
  },
  {
   "cell_type": "markdown",
   "metadata": {},
   "source": [
    "## Comments"
   ]
  },
  {
   "cell_type": "code",
   "execution_count": 5,
   "metadata": {},
   "outputs": [],
   "source": [
    "# This is a comment"
   ]
  },
  {
   "cell_type": "markdown",
   "metadata": {},
   "source": [
    "## Numbers"
   ]
  },
  {
   "cell_type": "code",
   "execution_count": 3,
   "metadata": {},
   "outputs": [
    {
     "name": "stdout",
     "output_type": "stream",
     "text": [
      "1256\n",
      "12.5\n",
      "10.3\n"
     ]
    }
   ],
   "source": [
    "# Numbers\n",
    "print(1256) # an Integer number\n",
    "print(12.5) # a floating number\n",
    "print(10 + 0.3) # integer + float = float\n",
    "\n",
    "\"\"\"\n",
    "In Python 3 integers types are sys.maxsize: 32 bits or 64 bits. \n",
    "Any number bigger than that is of type long. The size of a long number is only\n",
    "limited by the memory available in the system.\n",
    "\"\"\"\n",
    "\n",
    "num = 82736408716203678012683612638723 # a long number"
   ]
  },
  {
   "cell_type": "markdown",
   "metadata": {},
   "source": [
    "## Strings (and other types)"
   ]
  },
  {
   "cell_type": "code",
   "execution_count": 6,
   "metadata": {},
   "outputs": [
    {
     "data": {
      "text/plain": [
       "str"
      ]
     },
     "execution_count": 6,
     "metadata": {},
     "output_type": "execute_result"
    }
   ],
   "source": [
    "# Strings\n",
    "\"Hi I am a string\"\n",
    "'Hi I am a string'  # these strings have the same value\n",
    "\n",
    "'I\\'m also a string'  # escape the quote\n",
    "\"Escape the slash: \\\\\"  # escape the slash\n",
    "\"This is a line\\nThis is a new line!\" # using \\n to go to a new line\n",
    "\n",
    "s = \"\"\"This is a line\n",
    "This is a new line!\"\"\"\n",
    "\n",
    "# Types are class\n",
    "type(\"Hello\")  # <class 'str'>"
   ]
  },
  {
   "cell_type": "markdown",
   "metadata": {},
   "source": [
    "## Operations"
   ]
  },
  {
   "cell_type": "code",
   "execution_count": 9,
   "metadata": {},
   "outputs": [
    {
     "name": "stdout",
     "output_type": "stream",
     "text": [
      "4\n"
     ]
    }
   ],
   "source": [
    "2016 * 10 / 60 / 24  # Bitcoin mines an average of 2016 blocks every 2 weeks\n",
    "\n",
    "power = 2 ** 8  # 256\n",
    "modulo = 14 % 10  # 4, this operator is the building block of cryptography\n",
    "\n",
    "string_concatenation = \"Hello \" + \"World!\"  # Hello World!\n",
    "\n",
    "# This is the plus-equal operator ...\n",
    "a = 0 # 0\n",
    "a += 1 # 1\n",
    "a += 3 # 4\n",
    "\n",
    "print(a)\n",
    "\n",
    "# ... this are the other ones += *= /= -= "
   ]
  }
 ],
 "metadata": {
  "kernelspec": {
   "display_name": "Python 3",
   "language": "python",
   "name": "python3"
  },
  "language_info": {
   "codemirror_mode": {
    "name": "ipython",
    "version": 3
   },
   "file_extension": ".py",
   "mimetype": "text/x-python",
   "name": "python",
   "nbconvert_exporter": "python",
   "pygments_lexer": "ipython3",
   "version": "3.7.5"
  }
 },
 "nbformat": 4,
 "nbformat_minor": 2
}
