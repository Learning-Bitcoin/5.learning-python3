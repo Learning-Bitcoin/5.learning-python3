{
 "cells": [
  {
   "cell_type": "markdown",
   "metadata": {},
   "source": [
    "# Control Flow"
   ]
  },
  {
   "cell_type": "markdown",
   "metadata": {},
   "source": [
    "Python implements a few control flow operators. Let's see them."
   ]
  },
  {
   "cell_type": "markdown",
   "metadata": {},
   "source": [
    "## If, else"
   ]
  },
  {
   "cell_type": "code",
   "execution_count": 1,
   "metadata": {},
   "outputs": [
    {
     "name": "stdout",
     "output_type": "stream",
     "text": [
      "Sorry we're full\n"
     ]
    }
   ],
   "source": [
    "seats = 20\n",
    "max_seats = 15\n",
    "\n",
    "# Are there enough seats in this workshop?\n",
    "if seats < max_seats:\n",
    "   print(\"We have a seat for you\")\n",
    "else:\n",
    "   print(\"Sorry we're full\")"
   ]
  },
  {
   "cell_type": "markdown",
   "metadata": {},
   "source": [
    "## Comparison operators ==, !=, >, <, <=, >="
   ]
  },
  {
   "cell_type": "markdown",
   "metadata": {},
   "source": [
    "The comparison operators return a Boolean value. We usually will use them to create a variable."
   ]
  },
  {
   "cell_type": "code",
   "execution_count": 5,
   "metadata": {},
   "outputs": [
    {
     "name": "stdout",
     "output_type": "stream",
     "text": [
      "True\n"
     ]
    }
   ],
   "source": [
    "a = 1\n",
    "b = 3\n",
    "\n",
    "a == b # False\n",
    "a > b # False\n",
    "a < b # True\n",
    "\n",
    "a >= b # False\n",
    "a <= b # True\n",
    "\n",
    "if a == b:\n",
    "   print(\"They have the same value\")"
   ]
  },
  {
   "cell_type": "markdown",
   "metadata": {},
   "source": [
    "## And, or, not operators"
   ]
  },
  {
   "cell_type": "markdown",
   "metadata": {},
   "source": [
    "We can combine the conditions with these operators"
   ]
  },
  {
   "cell_type": "code",
   "execution_count": null,
   "metadata": {},
   "outputs": [],
   "source": [
    "seats = 15\n",
    "available_seats = 10\n",
    "time = 20\n",
    "start_time = 18\n",
    "\n",
    "if seats < available_seats and time < start_time:\n",
    "   print (\"You have your seat\")\n",
    "\n",
    "thirsty = False\n",
    "hungry = True\n",
    "if thirsty or hungry:\n",
    "   print (\"Check what's in the fridge\")\n",
    "\n",
    "available = False\n",
    "if not available:\n",
    "   print (\"Is not available\")"
   ]
  },
  {
   "cell_type": "markdown",
   "metadata": {},
   "source": [
    "## Handling Exceptions"
   ]
  },
  {
   "cell_type": "code",
   "execution_count": null,
   "metadata": {},
   "outputs": [],
   "source": [
    "try:\n",
    "   c = a / 0  # We can't divide by zero\n",
    "except:\n",
    "   print(\"This operation can't be done\")"
   ]
  }
 ],
 "metadata": {
  "kernelspec": {
   "display_name": "Python 3",
   "language": "python",
   "name": "python3"
  },
  "language_info": {
   "codemirror_mode": {
    "name": "ipython",
    "version": 3
   },
   "file_extension": ".py",
   "mimetype": "text/x-python",
   "name": "python",
   "nbconvert_exporter": "python",
   "pygments_lexer": "ipython3",
   "version": "3.7.5"
  }
 },
 "nbformat": 4,
 "nbformat_minor": 2
}
